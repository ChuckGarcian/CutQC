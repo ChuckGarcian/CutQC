{
 "cells": [
  {
   "cell_type": "markdown",
   "metadata": {},
   "source": [
    "# Index\n",
    "\n",
    "1. [Quick Intro](#1.-Quick-Intro)\n",
    "2. [Setup](#2.-Setup)\n",
    "3. [Cutting and Evaluating](#3.-Cut-and-Evaluation)\n",
    "4. [Initializing CutQC object for Reconstruction](#4.-Initializing-CutQC-object-for-Reconstruction)"
   ]
  },
  {
   "cell_type": "markdown",
   "metadata": {},
   "source": [
    "# 1. Quick Intro\n",
    "\n",
    "CutQC is a 'full stack' circuit circuit cutting framework.  CutQC has three components: 1. Cut 2. Subcircuit Evaluation 3. Reconstruction. The last of which has a distrubuted implmenteation that can run on multi-node compute clusters. This document will discuss how to setup and run the distrubuted reconstruction component. All slurm and pyton excerpts shown in this notebook can be found in the examples directory."
   ]
  },
  {
   "cell_type": "markdown",
   "metadata": {
    "vscode": {
     "languageId": "plaintext"
    }
   },
   "source": [
    "# 2. Setup\n",
    "\n",
    "This section shall briefly cover the environment variables and message passing backend required to run cutqc distrbuted reconstruction. \n",
    "\n",
    "At its core, a 'distributed application' is the execution of a program on a set of interconnected -- but independent -- machines that compute in parallel. Independent in this case means each machine executes a separate instance of the program with seperate execution contexts.\n",
    "\n",
    "As a result, different compute nodes require a way to talk to each other. In many cases 'communication' largely can be broken down into two parts: \n",
    "  1. Initializatoin: Compute nodes need to 'find eachother, i.e a handshake. \n",
    "  2. Post-initialization: The manner in which data is actually being sent. This depends partially on available hardware. \n",
    "\n",
    "What all of this really means is when using CutQC, you must supply/set some extra information to faccilitate these two components. \n",
    "\n",
    "Note, Appart from that everything else is transparent.\n",
    "\n",
    "During the execution of distrubted cutqc, this commucation is handled by the [commucation backend](https://pytorch.org/docs/stable/distributed.html), "
   ]
  },
  {
   "cell_type": "markdown",
   "metadata": {
    "vscode": {
     "languageId": "plaintext"
    }
   },
   "source": [
    "### Initialization\n",
    "\n",
    "When running distributed reconstruction, you must start a separate instance of `cutqc` on each node. And as stated above, Initially, these instances will be unaware of each other's existence. However, `cutqc` relies on PyTorch to exchange connection information (handshake). Each node must have access to the following information  for the handshake:\n",
    "\n",
    "- `MASTER_PORT`: Port on the host machine\n",
    "- `MASTER_ADDR`: IP address of the host machine\n",
    "- `WORLD_SIZE`: Total number of nodes involved\n",
    "- `RANK`: Unique process identifier \n",
    "\n",
    "At the moment, this is done by setting this done by setting these values as environment variables on all machines involved and also passing it to cutqc when. \n",
    "\n",
    "More information about environment intialization can be [found here.](https://pytorch.org/docs/stable/distributed.html#environment-variable-initialization)\n",
    "\n",
    "\n",
    "Thankfully a compute cluster scheduler like [slurm](https://slurm.schedmd.com/documentation.html) will automatically set the RANK WORLD_SIZE environement variables. Slurm won't automatically set the master_port and mastter_addr envrionment variables, however it does make it easy to do so. \n",
    "\n",
    "Bellow is an excerpt from the slurm script used in example:"
   ]
  },
  {
   "cell_type": "code",
   "execution_count": null,
   "metadata": {
    "vscode": {
     "languageId": "shellscript"
    }
   },
   "outputs": [],
   "source": [
    "#SBATCH --output=_output/%x.%j.out\n",
    "#SBATCH --nodes=1                 # node count\n",
    "#SBATCH --ntasks-per-node=1       # total number of tasks across all nodes\n",
    "#SBATCH --cpus-per-task=13        # cpu-cores per task (>1 if multi-threaded tasks)\n",
    "\n",
    "export MASTER_PORT=$(get_free_port)  \n",
    "export MASTER_ADDR=$master_addr=$(scontrol show hostnames \"$SLURM_JOB_NODELIST\" | head -n 1) "
   ]
  },
  {
   "cell_type": "markdown",
   "metadata": {},
   "source": [
    "If done correctly, each node should be able to access port, address, world size information in the driver python by reading their environment variables. \n",
    "\n",
    "Bellow is an excerpt from the example driver that does this: \n"
   ]
  },
  {
   "cell_type": "code",
   "execution_count": null,
   "metadata": {},
   "outputs": [],
   "source": [
    "# Title: 'dist_run.py'\n",
    "import os\n",
    "\n",
    "# Environment variables set by slurm script\n",
    "gpus_per_node = int(os.environ[\"SLURM_GPUS_ON_NODE\"])\n",
    "WORLD_RANK = int(os.environ[\"SLURM_PROCID\"])\n",
    "WORLD_SIZE = int(os.environ[\"WORLD_SIZE\"])\n",
    "MASTER_RANK = 0"
   ]
  },
  {
   "cell_type": "markdown",
   "metadata": {},
   "source": [
    "The world_rank and World_size values are passed as arguments to the CutQC constructor. This will be shown bellow in the last section."
   ]
  },
  {
   "cell_type": "markdown",
   "metadata": {},
   "source": [
    "If done correctly, each node should be able to access port, address and world size information in the driver python by reading their environment variables. \n",
    "\n",
    "Bellow is an excerpt from the example driver that does this: \n",
    "\n",
    "\n",
    "Then, in the driver python file, each node\n",
    "\n",
    "Currently, CutQC requires \n",
    "\n",
    "The distributed reconstructor requires that the subcircuits be evaluated prior to its execution."
   ]
  },
  {
   "cell_type": "markdown",
   "metadata": {},
   "source": [
    "## Message Passing Backend\n",
    "\n",
    "The steps shown above is strictly for initial coordination of nodes; A message passing backend is used to facitlate the "
   ]
  },
  {
   "cell_type": "markdown",
   "metadata": {},
   "source": [
    "# 3. Initializing CutQC object for Reconstruction"
   ]
  },
  {
   "cell_type": "markdown",
   "metadata": {},
   "source": [
    "# 4. Cut and Evaluation"
   ]
  }
 ],
 "metadata": {
  "language_info": {
   "name": "python"
  }
 },
 "nbformat": 4,
 "nbformat_minor": 2
}
